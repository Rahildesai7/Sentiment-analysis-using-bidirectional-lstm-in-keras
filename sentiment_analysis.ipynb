{
  "nbformat": 4,
  "nbformat_minor": 0,
  "metadata": {
    "colab": {
      "name": "Untitled3.ipynb",
      "provenance": [],
      "collapsed_sections": []
    },
    "kernelspec": {
      "name": "python3",
      "display_name": "Python 3"
    },
    "accelerator": "GPU"
  },
  "cells": [
    {
      "cell_type": "code",
      "metadata": {
        "id": "THgkRrK-fRqc",
        "colab_type": "code",
        "colab": {
          "base_uri": "https://localhost:8080/",
          "height": 87
        },
        "outputId": "213710b0-d40c-49ba-c933-fa162d09b1d7"
      },
      "source": [
        "import keras \n",
        "import pandas as pd\n",
        "import numpy as np\n",
        "import matplotlib.pyplot as plt\n",
        "plt.style.use('ggplot')\n",
        "import seaborn as sns\n",
        "\n",
        "from sklearn.feature_extraction.text import CountVectorizer\n",
        "from sklearn.model_selection import train_test_split\n",
        "from keras.models import Sequential\n",
        "from keras import layers\n",
        "from keras.preprocessing.text import Tokenizer\n",
        "from keras.preprocessing.sequence import pad_sequences\n",
        "from keras.preprocessing import sequence\n",
        "from keras.wrappers.scikit_learn import KerasClassifier\n",
        "from keras.preprocessing.sequence import pad_sequences\n",
        "from keras.layers import Input, Dense, Dropout, Embedding, Flatten, LSTM, Bidirectional\n",
        "from keras.models import Model\n",
        "from keras.utils import to_categorical\n",
        "from keras.callbacks import ModelCheckpoint\n",
        "from sklearn.model_selection import train_test_split\n",
        "from sklearn.metrics import accuracy_score\n",
        "from sklearn.metrics import classification_report"
      ],
      "execution_count": 1,
      "outputs": [
        {
          "output_type": "stream",
          "text": [
            "Using TensorFlow backend.\n",
            "/usr/local/lib/python3.6/dist-packages/statsmodels/tools/_testing.py:19: FutureWarning: pandas.util.testing is deprecated. Use the functions in the public API at pandas.testing instead.\n",
            "  import pandas.util.testing as tm\n"
          ],
          "name": "stderr"
        }
      ]
    },
    {
      "cell_type": "code",
      "metadata": {
        "id": "7VWcM6J4fXR7",
        "colab_type": "code",
        "colab": {
          "base_uri": "https://localhost:8080/",
          "height": 195
        },
        "outputId": "19d2fe91-fb10-49e8-b373-af90279376ca"
      },
      "source": [
        "df = pd.read_csv(\"IMDB Dataset.csv\", names=['comment', 'label'], header=0, encoding='utf-8')\n",
        "df.head()"
      ],
      "execution_count": 4,
      "outputs": [
        {
          "output_type": "execute_result",
          "data": {
            "text/html": [
              "<div>\n",
              "<style scoped>\n",
              "    .dataframe tbody tr th:only-of-type {\n",
              "        vertical-align: middle;\n",
              "    }\n",
              "\n",
              "    .dataframe tbody tr th {\n",
              "        vertical-align: top;\n",
              "    }\n",
              "\n",
              "    .dataframe thead th {\n",
              "        text-align: right;\n",
              "    }\n",
              "</style>\n",
              "<table border=\"1\" class=\"dataframe\">\n",
              "  <thead>\n",
              "    <tr style=\"text-align: right;\">\n",
              "      <th></th>\n",
              "      <th>comment</th>\n",
              "      <th>label</th>\n",
              "    </tr>\n",
              "  </thead>\n",
              "  <tbody>\n",
              "    <tr>\n",
              "      <th>0</th>\n",
              "      <td>One of the other reviewers has mentioned that ...</td>\n",
              "      <td>positive</td>\n",
              "    </tr>\n",
              "    <tr>\n",
              "      <th>1</th>\n",
              "      <td>A wonderful little production. &lt;br /&gt;&lt;br /&gt;The...</td>\n",
              "      <td>positive</td>\n",
              "    </tr>\n",
              "    <tr>\n",
              "      <th>2</th>\n",
              "      <td>I thought this was a wonderful way to spend ti...</td>\n",
              "      <td>positive</td>\n",
              "    </tr>\n",
              "    <tr>\n",
              "      <th>3</th>\n",
              "      <td>Basically there's a family where a little boy ...</td>\n",
              "      <td>negative</td>\n",
              "    </tr>\n",
              "    <tr>\n",
              "      <th>4</th>\n",
              "      <td>Petter Mattei's \"Love in the Time of Money\" is...</td>\n",
              "      <td>positive</td>\n",
              "    </tr>\n",
              "  </tbody>\n",
              "</table>\n",
              "</div>"
            ],
            "text/plain": [
              "                                             comment     label\n",
              "0  One of the other reviewers has mentioned that ...  positive\n",
              "1  A wonderful little production. <br /><br />The...  positive\n",
              "2  I thought this was a wonderful way to spend ti...  positive\n",
              "3  Basically there's a family where a little boy ...  negative\n",
              "4  Petter Mattei's \"Love in the Time of Money\" is...  positive"
            ]
          },
          "metadata": {
            "tags": []
          },
          "execution_count": 4
        }
      ]
    },
    {
      "cell_type": "code",
      "metadata": {
        "id": "xNgf2Bm5fZ__",
        "colab_type": "code",
        "colab": {
          "base_uri": "https://localhost:8080/",
          "height": 34
        },
        "outputId": "f68dcecb-4b48-4797-f603-29c90dc05b8f"
      },
      "source": [
        "num_class = len(np.unique(df.label.values))\n",
        "y = df['label'].values\n",
        "print(num_class)"
      ],
      "execution_count": 5,
      "outputs": [
        {
          "output_type": "stream",
          "text": [
            "2\n"
          ],
          "name": "stdout"
        }
      ]
    },
    {
      "cell_type": "code",
      "metadata": {
        "id": "8JbTGnu3nXrT",
        "colab_type": "code",
        "colab": {
          "base_uri": "https://localhost:8080/",
          "height": 265
        },
        "outputId": "915d073d-87c8-4cc8-b235-fd24e8da8338"
      },
      "source": [
        "plt.hist([len(s) for s in df.comment], bins=50)\n",
        "plt.show()"
      ],
      "execution_count": 6,
      "outputs": [
        {
          "output_type": "display_data",
          "data": {
            "image/png": "[encoded data removed]",
            "text/plain": [
              "<Figure size 432x288 with 1 Axes>"
            ]
          },
          "metadata": {
            "tags": [],
            "needs_background": "light"
          }
        }
      ]
    },
    {
      "cell_type": "code",
      "metadata": {
        "id": "eJPgQWienfm-",
        "colab_type": "code",
        "colab": {}
      },
      "source": [
        "max_features = 22000\n",
        "maxlen = 1600\n",
        "\n",
        "tokenizer = Tokenizer()\n",
        "#fits the comments on the comments\n",
        "tokenizer.fit_on_texts(df.comment.values)\n",
        "post_seq= tokenizer.texts_to_sequences(df.comment.values)\n",
        "post_seq_padded= pad_sequences(post_seq, maxlen=maxlen)"
      ],
      "execution_count": 0,
      "outputs": []
    },
    {
      "cell_type": "code",
      "metadata": {
        "id": "cAlE5FIrnilz",
        "colab_type": "code",
        "colab": {
          "base_uri": "https://localhost:8080/",
          "height": 134
        },
        "outputId": "4807528e-25b5-4a0e-8e2c-5030cd52a863"
      },
      "source": [
        "X_train, X_test, y_train, y_test = train_test_split(post_seq_padded, y, test_size=0.2, random_state=1)\n",
        "\n",
        "y_train = np.array(y_train)\n",
        "y_test = np.array(y_test)\n",
        "\n",
        "X_train"
      ],
      "execution_count": 8,
      "outputs": [
        {
          "output_type": "execute_result",
          "data": {
            "text/plain": [
              "array([[    0,     0,     0, ...,  5579,  5893,   373],\n",
              "       [    0,     0,     0, ...,  7433,   942, 12576],\n",
              "       [    0,     0,     0, ...,    29,     1,    55],\n",
              "       ...,\n",
              "       [    0,     0,     0, ...,  3935,   454,   156],\n",
              "       [    0,     0,     0, ...,    10,   210,    11],\n",
              "       [    0,     0,     0, ...,    69,   541,  1138]], dtype=int32)"
            ]
          },
          "metadata": {
            "tags": []
          },
          "execution_count": 8
        }
      ]
    },
    {
      "cell_type": "code",
      "metadata": {
        "id": "0Gq-PSGjnnG8",
        "colab_type": "code",
        "colab": {}
      },
      "source": [
        "from sklearn import preprocessing\n",
        "lb = preprocessing.LabelBinarizer()\n",
        "y = lb.fit_transform(y_train)\n",
        "y = to_categorical(y)"
      ],
      "execution_count": 0,
      "outputs": []
    },
    {
      "cell_type": "code",
      "metadata": {
        "id": "FPdMNgcbnqcS",
        "colab_type": "code",
        "colab": {
          "base_uri": "https://localhost:8080/",
          "height": 353
        },
        "outputId": "8fb51209-6ba8-423e-ea3c-99a07cf32755"
      },
      "source": [
        "input_ = Input(shape=(maxlen,))\n",
        "model = Embedding(len(tokenizer.word_index)+1, 100, input_length=X_train.shape[1])(input_)\n",
        "model = Dropout(0.5)(model)\n",
        "model = Bidirectional(LSTM(64))(model)\n",
        "model = Dropout(0.5)(model)\n",
        "out = Dense(2, activation='softmax')(model)\n",
        "model = Model(input_, out)\n",
        "model.summary()"
      ],
      "execution_count": 10,
      "outputs": [
        {
          "output_type": "stream",
          "text": [
            "Model: \"model_1\"\n",
            "_________________________________________________________________\n",
            "Layer (type)                 Output Shape              Param #   \n",
            "=================================================================\n",
            "input_1 (InputLayer)         (None, 1600)              0         \n",
            "_________________________________________________________________\n",
            "embedding_1 (Embedding)      (None, 1600, 100)         12425300  \n",
            "_________________________________________________________________\n",
            "dropout_1 (Dropout)          (None, 1600, 100)         0         \n",
            "_________________________________________________________________\n",
            "bidirectional_1 (Bidirection (None, 128)               84480     \n",
            "_________________________________________________________________\n",
            "dropout_2 (Dropout)          (None, 128)               0         \n",
            "_________________________________________________________________\n",
            "dense_1 (Dense)              (None, 2)                 258       \n",
            "=================================================================\n",
            "Total params: 12,510,038\n",
            "Trainable params: 12,510,038\n",
            "Non-trainable params: 0\n",
            "_________________________________________________________________\n"
          ],
          "name": "stdout"
        }
      ]
    },
    {
      "cell_type": "code",
      "metadata": {
        "id": "e7QIyKCtnutt",
        "colab_type": "code",
        "colab": {}
      },
      "source": [
        "model.compile(loss='binary_crossentropy',\n",
        "              optimizer='adam',\n",
        "              metrics=['acc'])"
      ],
      "execution_count": 0,
      "outputs": []
    },
    {
      "cell_type": "code",
      "metadata": {
        "id": "8fjImiEnnyer",
        "colab_type": "code",
        "colab": {
          "base_uri": "https://localhost:8080/",
          "height": 235
        },
        "outputId": "34c5657d-b621-439d-edb9-ae70cb888119"
      },
      "source": [
        "filepath=\"weights-simple.hdf5\"\n",
        "checkpointer = ModelCheckpoint(filepath, monitor='val_acc', verbose=1, save_best_only=True, mode='max')\n",
        "history = model.fit(X_train, batch_size=128, y=y, verbose=1, validation_split=0.25, \n",
        "          shuffle=True, epochs=3, callbacks=[checkpointer])"
      ],
      "execution_count": 13,
      "outputs": [
        {
          "output_type": "stream",
          "text": [
            "Train on 30000 samples, validate on 10000 samples\n",
            "Epoch 1/3\n",
            "30000/30000 [==============================] - 1158s 39ms/step - loss: 0.4530 - acc: 0.7781 - val_loss: 0.2783 - val_acc: 0.8900\n",
            "\n",
            "Epoch 00001: val_acc improved from -inf to 0.89000, saving model to weights-simple.hdf5\n",
            "Epoch 2/3\n",
            "30000/30000 [==============================] - 1133s 38ms/step - loss: 0.2188 - acc: 0.9201 - val_loss: 0.2838 - val_acc: 0.8800\n",
            "\n",
            "Epoch 00002: val_acc did not improve from 0.89000\n",
            "Epoch 3/3\n",
            "30000/30000 [==============================] - 1144s 38ms/step - loss: 0.1221 - acc: 0.9591 - val_loss: 0.3307 - val_acc: 0.8903\n",
            "\n",
            "Epoch 00003: val_acc improved from 0.89000 to 0.89030, saving model to weights-simple.hdf5\n"
          ],
          "name": "stdout"
        }
      ]
    },
    {
      "cell_type": "code",
      "metadata": {
        "id": "N_gImSXxn4CK",
        "colab_type": "code",
        "colab": {
          "base_uri": "https://localhost:8080/",
          "height": 282
        },
        "outputId": "7ee2f162-13f1-45d0-b0d4-231499fc3669"
      },
      "source": [
        "df_result = pd.DataFrame({'epochs':history.epoch, 'accuracy': history.history['acc'], 'validation_accuracy': history.history['val_acc']})\n",
        "g = sns.pointplot(x=\"epochs\", y=\"accuracy\", data=df_result, fit_reg=False)\n",
        "g = sns.pointplot(x=\"epochs\", y=\"validation_accuracy\", data=df_result, fit_reg=False, color='green')"
      ],
      "execution_count": 14,
      "outputs": [
        {
          "output_type": "display_data",
          "data": {
            "image/png": "[encoded data removed]",
            "text/plain": [
              "<Figure size 432x288 with 1 Axes>"
            ]
          },
          "metadata": {
            "tags": [],
            "needs_background": "light"
          }
        }
      ]
    },
    {
      "cell_type": "code",
      "metadata": {
        "id": "kXoUf7HA42xv",
        "colab_type": "code",
        "colab": {
          "base_uri": "https://localhost:8080/",
          "height": 134
        },
        "outputId": "fa5b26d6-4ba4-480d-85f3-67e937ce4585"
      },
      "source": [
        "y_test_ = lb.fit_transform(y_test)\n",
        "y_test_"
      ],
      "execution_count": 27,
      "outputs": [
        {
          "output_type": "execute_result",
          "data": {
            "text/plain": [
              "array([[0],\n",
              "       [0],\n",
              "       [0],\n",
              "       ...,\n",
              "       [0],\n",
              "       [1],\n",
              "       [0]])"
            ]
          },
          "metadata": {
            "tags": []
          },
          "execution_count": 27
        }
      ]
    },
    {
      "cell_type": "code",
      "metadata": {
        "id": "OMVVLJ82463o",
        "colab_type": "code",
        "colab": {
          "base_uri": "https://localhost:8080/",
          "height": 34
        },
        "outputId": "637b29cb-31d4-4852-ec89-6fffc007fb11"
      },
      "source": [
        "#get prediction accuarcy for testing dataset \n",
        "predicted = model.predict(X_test)\n",
        "predicted_best = np.argmax(predicted, axis=1)\n",
        "print (accuracy_score(predicted_best, y_test_))\n",
        "predicted=pd.DataFrame(data=predicted)"
      ],
      "execution_count": 25,
      "outputs": [
        {
          "output_type": "stream",
          "text": [
            "0.8943\n"
          ],
          "name": "stdout"
        }
      ]
    },
    {
      "cell_type": "code",
      "metadata": {
        "id": "wuugPTom8FGP",
        "colab_type": "code",
        "colab": {
          "base_uri": "https://localhost:8080/",
          "height": 67
        },
        "outputId": "7b73df2e-cd40-4f59-dacc-e7d88ea34d0e"
      },
      "source": [
        "twt = ['pathetic movie, actor did a bad job']\n",
        "#vectorizing the tweet by the pre-fitted tokenizer instance\n",
        "twt = tokenizer.texts_to_sequences(twt)\n",
        "twt = pad_sequences(twt, maxlen)\n",
        "print(twt)\n",
        "sentiment = model.predict(np.array(twt),batch_size=1,verbose = 2)\n",
        "print(np.argmax(sentiment))\n",
        "if(np.argmax(sentiment)==0):\n",
        "  print('negative')\n",
        "elif(np.argmax(sentiment)==1):\n",
        "  print('positive')"
      ],
      "execution_count": 53,
      "outputs": [
        {
          "output_type": "stream",
          "text": [
            "[[  0   0   0 ...   3  74 293]]\n",
            "0\n",
            "negative\n"
          ],
          "name": "stdout"
        }
      ]
    },
    {
      "cell_type": "code",
      "metadata": {
        "id": "UfpF8k2T8Hzn",
        "colab_type": "code",
        "colab": {}
      },
      "source": [
        ""
      ],
      "execution_count": 0,
      "outputs": []
    }
  ]
}